{
 "cells": [
  {
   "cell_type": "markdown",
   "metadata": {},
   "source": [
    "# Object-Oriented-Programming (OOP)"
   ]
  },
  {
   "cell_type": "markdown",
   "metadata": {},
   "source": [
    "## Tasks Today:\n",
    "\n",
    "   \n",
    "\n",
    "1) <b>Creating a Class (Initializing/Declaring)</b> <br>\n",
    "2) <b>Using a Class (Instantiating)</b> <br>\n",
    " &nbsp;&nbsp;&nbsp;&nbsp; a) Creating One Instance <br>\n",
    " &nbsp;&nbsp;&nbsp;&nbsp; b) Creating Multiple Instances <br>\n",
    " &nbsp;&nbsp;&nbsp;&nbsp; c) In-Class Exercise #1 - Create a Class 'Car' and instantiate three different makes of cars <br>\n",
    "3) <b>The \\__init\\__() Method</b> <br>\n",
    " &nbsp;&nbsp;&nbsp;&nbsp; a) The 'self' Attribute <br>\n",
    "4) <b>Class Attributes</b> <br>\n",
    " &nbsp;&nbsp;&nbsp;&nbsp; a) Initializing Attributes <br>\n",
    " &nbsp;&nbsp;&nbsp;&nbsp; b) Setting an Attribute Outside of the \\__init\\__() Method <br>\n",
    " &nbsp;&nbsp;&nbsp;&nbsp; c) Setting Defaults for Attributes <br>\n",
    " &nbsp;&nbsp;&nbsp;&nbsp; d) Accessing Class Attributes <br>\n",
    " &nbsp;&nbsp;&nbsp;&nbsp; e) Changing Class Attributes <br>\n",
    " &nbsp;&nbsp;&nbsp;&nbsp; f) In-Class Exercise #2 - Add a color and wheels attribute to your 'Car' class <br>\n",
    "5) <b>Class Methods</b> <br>\n",
    " &nbsp;&nbsp;&nbsp;&nbsp; a) Creating <br>\n",
    " &nbsp;&nbsp;&nbsp;&nbsp; b) Calling <br>\n",
    " &nbsp;&nbsp;&nbsp;&nbsp; c) Modifying an Attribute's Value Through a Method <br>\n",
    " &nbsp;&nbsp;&nbsp;&nbsp; d) Incrementing an Attribute's Value Through a Method <br>\n",
    " &nbsp;&nbsp;&nbsp;&nbsp; e) In-Class Exercise #3 - Add a method that prints the cars color and wheel number, then call them <br>\n",
    "6) <b>Inheritance</b> <br>\n",
    " &nbsp;&nbsp;&nbsp;&nbsp; a) Syntax for Inheriting from a Parent Class <br>\n",
    " &nbsp;&nbsp;&nbsp;&nbsp; b) The \\__init\\__() Method for a Child Class (super()) <br>\n",
    " &nbsp;&nbsp;&nbsp;&nbsp; c) Defining Attributes and Methods for the Child Class <br>\n",
    " &nbsp;&nbsp;&nbsp;&nbsp; d) Method Overriding <br>\n",
    " &nbsp;&nbsp;&nbsp;&nbsp; e) In-Class Exercise #4 - Create a class 'Ford' that inherits from 'Car' class and initialize it as a Blue Ford Explorer with 4 wheels using the super() method <br>\n",
    "7) <b>Classes as Attributes</b> <br>\n",
    "8) <b>Exercises</b> <br>\n",
    " &nbsp;&nbsp;&nbsp;&nbsp; a) Exercise #1 - Turn the shopping cart program from yesterday into an object-oriented program <br>"
   ]
  },
  {
   "cell_type": "markdown",
   "metadata": {},
   "source": [
    "## Creating a Class (Initializing/Declaring)\n",
    "<p>When creating a class, function, or even a variable you are initializing that object. Initializing and Declaring occur at the same time in Python, whereas in lower level languages you have to declare an object before initializing it. This is the first step in the process of using a class.</p>"
   ]
  },
  {
   "cell_type": "code",
   "execution_count": 3,
   "metadata": {},
   "outputs": [],
   "source": [
    "class Car():\n",
    "    wheels = 4\n",
    "    color = 'blue'"
   ]
  },
  {
   "cell_type": "markdown",
   "metadata": {},
   "source": [
    "## Using a Class (Instantiating)\n",
    "<p>The process of creating a class is called <i>Instantiating</i>. Each time you create a variable of that type of class, it is referred to as an <i>Instance</i> of that class. This is the second step in the process of using a class.</p>"
   ]
  },
  {
   "cell_type": "markdown",
   "metadata": {},
   "source": [
    "##### Creating One Instance"
   ]
  },
  {
   "cell_type": "code",
   "execution_count": 4,
   "metadata": {},
   "outputs": [],
   "source": [
    "ford = Car()"
   ]
  },
  {
   "cell_type": "markdown",
   "metadata": {},
   "source": [
    "##### Creating Multiple Instances"
   ]
  },
  {
   "cell_type": "code",
   "execution_count": 8,
   "metadata": {
    "scrolled": true
   },
   "outputs": [
    {
     "name": "stdout",
     "output_type": "stream",
     "text": [
      "blue\n"
     ]
    },
    {
     "ename": "AttributeError",
     "evalue": "'Car' object has no attribute 'horn'",
     "output_type": "error",
     "traceback": [
      "\u001b[1;31m---------------------------------------------------------------------------\u001b[0m",
      "\u001b[1;31mAttributeError\u001b[0m                            Traceback (most recent call last)",
      "\u001b[1;32m<ipython-input-8-f7248aa3e7dc>\u001b[0m in \u001b[0;36m<module>\u001b[1;34m\u001b[0m\n\u001b[0;32m      5\u001b[0m \u001b[1;31m# object.variable or object.method\u001b[0m\u001b[1;33m\u001b[0m\u001b[1;33m\u001b[0m\u001b[1;33m\u001b[0m\u001b[0m\n\u001b[0;32m      6\u001b[0m \u001b[0mprint\u001b[0m\u001b[1;33m(\u001b[0m\u001b[0mhonda\u001b[0m\u001b[1;33m.\u001b[0m\u001b[0mcolor\u001b[0m\u001b[1;33m)\u001b[0m\u001b[1;33m\u001b[0m\u001b[1;33m\u001b[0m\u001b[0m\n\u001b[1;32m----> 7\u001b[1;33m \u001b[0mprint\u001b[0m\u001b[1;33m(\u001b[0m\u001b[0mchevy\u001b[0m\u001b[1;33m.\u001b[0m\u001b[0mhorn\u001b[0m\u001b[1;33m)\u001b[0m\u001b[1;33m\u001b[0m\u001b[1;33m\u001b[0m\u001b[0m\n\u001b[0m",
      "\u001b[1;31mAttributeError\u001b[0m: 'Car' object has no attribute 'horn'"
     ]
    }
   ],
   "source": [
    "honda = Car()\n",
    "chevy = Car()\n",
    "porsche = Car()\n",
    "\n",
    "# object.variable or object.method\n",
    "print(honda.color)\n",
    "\n"
   ]
  },
  {
   "cell_type": "markdown",
   "metadata": {},
   "source": [
    "##### In-Class Exercise #1 - Create a Class 'Car' and Instantiate three different makes of cars"
   ]
  },
  {
   "cell_type": "code",
   "execution_count": 10,
   "metadata": {},
   "outputs": [
    {
     "name": "stdout",
     "output_type": "stream",
     "text": [
      "4\n",
      "blue\n",
      "4\n"
     ]
    }
   ],
   "source": [
    "class Car():\n",
    "    wheels = 4\n",
    "    color = \"blue\"\n",
    "    doors = 4\n",
    "    \n",
    "toyota = Car()\n",
    "hyundai = Car()\n",
    "kia = Car()\n",
    "\n",
    "print(toyota.wheels)\n",
    "print(hyundai.color)\n",
    "print(kia.doors)\n"
   ]
  },
  {
   "cell_type": "markdown",
   "metadata": {},
   "source": [
    "## The \\__init\\__() Method <br>\n",
    "<p>This method is used in almost every created class, and called only once upon the creation of the class instance. This method will initialize all variables needed for the object.</p>"
   ]
  },
  {
   "cell_type": "code",
   "execution_count": null,
   "metadata": {},
   "outputs": [],
   "source": [
    "class Car():\n",
    "    engine = \"4.7L\" #constant attribute that doesn't frequently change\n",
    "    \n",
    "    def __init__(self, wheels, color):\n",
    "    #self is the instantiated object\n",
    "        self.wheels = wheels\n",
    "        self.color = color\n",
    "        \n",
    "bmw = Car(4, \"red\")\n",
    "ford = Car(8, \"blue\")"
   ]
  },
  {
   "cell_type": "markdown",
   "metadata": {},
   "source": [
    "##### The 'self' Attribute <br>\n",
    "<p>This attribute is required to keep track of specific instance's attributes. Without the self attribute, the program would not know how to reference or keep track of an instance's attributes.</p>"
   ]
  },
  {
   "cell_type": "code",
   "execution_count": null,
   "metadata": {},
   "outputs": [],
   "source": [
    "# see above"
   ]
  },
  {
   "cell_type": "markdown",
   "metadata": {},
   "source": [
    "## Class Attributes <br>\n",
    "<p>While variables are inside of a class, they are referred to as attributes and not variables. When someone says 'attribute' you know they're speaking about a class. Attributes can be initialized through the init method, or outside of it.</p>"
   ]
  },
  {
   "cell_type": "markdown",
   "metadata": {},
   "source": [
    "##### Initializing Attributes"
   ]
  },
  {
   "cell_type": "code",
   "execution_count": 11,
   "metadata": {},
   "outputs": [
    {
     "name": "stdout",
     "output_type": "stream",
     "text": [
      "starwars\n",
      "rectangle\n"
     ]
    }
   ],
   "source": [
    "class Toy():\n",
    "    toy_type = \"lego\"\n",
    "    \n",
    "    def __init__(self, modular, shape, color, collection):\n",
    "        self.modular = modular\n",
    "        self.shape = shape\n",
    "        self.color = color\n",
    "        self.collection = collection\n",
    "        \n",
    "y_wing = Toy(True, \"rectangle\", \"grey\", \"starwars\")\n",
    "white_house = Toy(True, \"rectangle\", \"white\", \"architecture\")\n",
    "      \n",
    "print(y_wing.collection)\n",
    "print(white_house.shape)"
   ]
  },
  {
   "cell_type": "markdown",
   "metadata": {},
   "source": [
    "##### Accessing Class Attributes"
   ]
  },
  {
   "cell_type": "code",
   "execution_count": null,
   "metadata": {
    "scrolled": true
   },
   "outputs": [],
   "source": [
    "print(y_wing.collection)\n",
    "print(white_house.shape)"
   ]
  },
  {
   "cell_type": "markdown",
   "metadata": {},
   "source": [
    "##### Setting Defaults for Attributes"
   ]
  },
  {
   "cell_type": "code",
   "execution_count": 13,
   "metadata": {},
   "outputs": [
    {
     "name": "stdout",
     "output_type": "stream",
     "text": [
      "8\n",
      "blue\n",
      "4.7\n"
     ]
    }
   ],
   "source": [
    "class Car():\n",
    "    engine = \"4.7\"\n",
    "    \n",
    "    def __init__(self, wheels):\n",
    "        self.wheels = wheels\n",
    "        self.color = \"blue\"\n",
    "        \n",
    "jeep = Car(8)\n",
    "honda = Car(4)\n",
    "\n",
    "print(jeep.wheels)\n",
    "print(jeep.color)\n",
    "print(jeep.engine)"
   ]
  },
  {
   "cell_type": "markdown",
   "metadata": {},
   "source": [
    "##### Changing Class Attributes <br>\n",
    "<p>Keep in mind there are global class attributes and then there are attributes only available to each class instance which won't effect other classes.</p>"
   ]
  },
  {
   "cell_type": "code",
   "execution_count": 15,
   "metadata": {},
   "outputs": [
    {
     "name": "stdout",
     "output_type": "stream",
     "text": [
      "white\n"
     ]
    }
   ],
   "source": [
    "jeep.color = \"white\"\n",
    "print(jeep.color)"
   ]
  },
  {
   "cell_type": "code",
   "execution_count": null,
   "metadata": {},
   "outputs": [],
   "source": []
  },
  {
   "cell_type": "markdown",
   "metadata": {},
   "source": [
    "##### In-Class Exercise #2 - Add a doors and seats attribute to your 'Car' class then print out two different instances with different doors and seats"
   ]
  },
  {
   "cell_type": "code",
   "execution_count": 19,
   "metadata": {},
   "outputs": [
    {
     "name": "stdout",
     "output_type": "stream",
     "text": [
      "4\n",
      "2\n"
     ]
    }
   ],
   "source": [
    "class Car():\n",
    "    engine = \"4.7\"\n",
    "    \n",
    "    def __init__(self, doors, seats = 4):\n",
    "        self.doors = doors\n",
    "        self.seats = seats\n",
    "        \n",
    "toyota = Car(4)\n",
    "honda = Car(2)\n",
    "\n",
    "print(toyota.seats)\n",
    "print(honda.doors)"
   ]
  },
  {
   "cell_type": "markdown",
   "metadata": {},
   "source": [
    "## Class Methods <br>\n",
    "<p>While inside of a class, functions are referred to as 'methods'. If you hear someone mention methods, they're speaking about classes. Methods are essentially functions, but only callable on the instances of a class.</p>"
   ]
  },
  {
   "cell_type": "markdown",
   "metadata": {},
   "source": [
    "##### Creating"
   ]
  },
  {
   "cell_type": "code",
   "execution_count": 26,
   "metadata": {},
   "outputs": [],
   "source": [
    "class Inventory():\n",
    "    \"\"\"\n",
    "        The Inventory Class will have capacity and items\n",
    "        to place inside.\n",
    "        \n",
    "        Attributes for the class:\n",
    "        \n",
    "        - capacity: expected to be a string OR an integer\n",
    "        - items: expected to be a list\n",
    "    \"\"\"\n",
    "    def __init__(self, capacity, items):\n",
    "        self.capacity = capacity\n",
    "        self.items = items\n",
    "        \n",
    "    # Method that shows what is in our inventory\n",
    "    def showInventory(self):\n",
    "        if self.items == []:\n",
    "            print(\"Your bag is empty\")\n",
    "        else:\n",
    "            print(\"Here are your supplies\")\n",
    "            for item in self.items:\n",
    "                print(item)\n",
    "                \n",
    "    def showCapacity(self):\n",
    "        print(f\"Your carrying capacity is {self.capacity}\")\n",
    "                \n",
    "    def addToInventory(self):\n",
    "        supplies = input(\"What would you like to add? \")\n",
    "        self.items.append(supplies)\n",
    "              \n",
    "    def changeInventoryCapacity(self, capacity):\n",
    "        self.capacity = capacity\n",
    "    \n",
    "    def increaseCapacity(self, changed_capacity = 10):\n",
    "        if isinstance(self.capacity, str):\n",
    "            print(\"This is not the data type you are looking for\")\n",
    "        else:\n",
    "            self.capacity += changed_capacity\n",
    "        "
   ]
  },
  {
   "cell_type": "markdown",
   "metadata": {},
   "source": [
    "##### Calling"
   ]
  },
  {
   "cell_type": "code",
   "execution_count": 45,
   "metadata": {},
   "outputs": [
    {
     "name": "stdout",
     "output_type": "stream",
     "text": [
      "What would you like to do? Add, Show, Quit quit\n",
      "Your bag is empty\n",
      "Go do quest stuff\n"
     ]
    }
   ],
   "source": [
    "# see above\n",
    "# create an instance of inventory class\n",
    "mage_bag = Inventory(10, [])\n",
    "\n",
    "# create a function to run the inventory methods\n",
    "def run():\n",
    "    while True:\n",
    "        response = input(\"What would you like to do? Add, Show, Quit \")\n",
    "        if response.lower() == \"add\":\n",
    "            mage_bag.addToInventory()\n",
    "        if response.lower() == \"show\":\n",
    "            mage_bag.showInventory()\n",
    "        if response.lower() == \"quit\":\n",
    "            mage_bag.showInventory()\n",
    "            print(\"Go do quest stuff\")\n",
    "            break\n",
    "run()\n"
   ]
  },
  {
   "cell_type": "markdown",
   "metadata": {},
   "source": [
    "##### Modifying an Attribute's Value Through a Method"
   ]
  },
  {
   "cell_type": "code",
   "execution_count": 46,
   "metadata": {},
   "outputs": [
    {
     "name": "stdout",
     "output_type": "stream",
     "text": [
      "Your carrying capacity is 10\n",
      "Capacity after the change\n",
      "Your carrying capacity is 15\n"
     ]
    }
   ],
   "source": [
    "# show capacity\n",
    "mage_bag.showCapacity()\n",
    "print(\"Capacity after the change\")\n",
    "mage_bag.changeInventoryCapacity(15)\n",
    "mage_bag.showCapacity()\n"
   ]
  },
  {
   "cell_type": "markdown",
   "metadata": {},
   "source": [
    "##### Incrementing an Attribute's Value Through a Method"
   ]
  },
  {
   "cell_type": "code",
   "execution_count": 47,
   "metadata": {},
   "outputs": [
    {
     "name": "stdout",
     "output_type": "stream",
     "text": [
      "Your carrying capacity is 15\n",
      "Capacity after the change\n",
      "Your carrying capacity is 25\n",
      "Capacity after the non-default change\n",
      "Your carrying capacity is 45\n"
     ]
    }
   ],
   "source": [
    "# show capacity\n",
    "mage_bag.showCapacity()\n",
    "print(\"Capacity after the change\")\n",
    "mage_bag.increaseCapacity()\n",
    "mage_bag.showCapacity()\n",
    "mage_bag.increaseCapacity(20)\n",
    "print(\"Capacity after the non-default change\")\n",
    "mage_bag.showCapacity()\n"
   ]
  },
  {
   "cell_type": "markdown",
   "metadata": {},
   "source": [
    "##### In-Class Exercise #3 - Add a method that takes in three parameters of year, doors and seats and prints out a formatted print statement with make, model, year, seats, and doors"
   ]
  },
  {
   "cell_type": "code",
   "execution_count": 56,
   "metadata": {},
   "outputs": [
    {
     "name": "stdout",
     "output_type": "stream",
     "text": [
      "This car is from 2011 and is a toyota camry and has 4 doors and 4 seats\n"
     ]
    }
   ],
   "source": [
    "# Create class with 2 paramters inside of the __init__ which are make and model\n",
    "\n",
    "# Inside of the Car class create a method that has 4 parameter in total (self,year,door,seats)\n",
    "\n",
    "# Output: This car is from 2019 and is a Ford Expolorer and has 4 doors and 5 seats\n",
    "\n",
    "class Car():\n",
    "    ENGINE = \"4.7L\"\n",
    "    \n",
    "    def __init__(self, make, model):\n",
    "        self.make = make\n",
    "        self.model = model        \n",
    "        \n",
    "    def cardetails(self, year, doors, seats):\n",
    "        print(f\"This car is from {year} and is a {self.make} {self.model} and has {doors} doors and {seats} seats\")\n",
    "\n",
    "toyota = Car(\"toyota\", \"camry\")\n",
    "toyota.cardetails(2011, 4, 4)"
   ]
  },
  {
   "cell_type": "markdown",
   "metadata": {},
   "source": [
    "## Inheritance <br>\n",
    "<p>You can create a child-parent relationship between two classes by using inheritance. What this allows you to do is have overriding methods, but also inherit traits from the parent class. Think of it as an actual parent and child, the child will inherit the parent's genes, as will the classes in OOP</p>"
   ]
  },
  {
   "cell_type": "markdown",
   "metadata": {},
   "source": [
    "##### Syntax for Inheriting from a Parent Class"
   ]
  },
  {
   "cell_type": "code",
   "execution_count": 82,
   "metadata": {},
   "outputs": [
    {
     "name": "stdout",
     "output_type": "stream",
     "text": [
      "Reeeee\n",
      "The dog can run at 15 mph and accelerates at 9.8\n",
      "Bark\n",
      "Green\n"
     ]
    }
   ],
   "source": [
    "class Animal():\n",
    "    ACCELERATION = 9.8\n",
    "    \n",
    "    def __init__(self, name, species, legs = 4):\n",
    "        self.name = name\n",
    "        self.species = species\n",
    "        self.legs = legs\n",
    "        \n",
    "    #Generic parent (Animal) method\n",
    "    \n",
    "    def makeSound(self):\n",
    "        noise = \"Reeeee\"\n",
    "        return noise\n",
    "\n",
    "class Dog(Animal):\n",
    "    SPEED = 15\n",
    "    \n",
    "    def printInfo(self):\n",
    "        print(f\"The dog can run at {self.SPEED} mph and accelerates at {self.ACCELERATION}\")\n",
    "        \n",
    "class Mutt(Dog):\n",
    "    COLOR = \"Black, brown, and white\"\n",
    "    \n",
    "    #Overriding Animal Class __init__ method by using the Dog class\n",
    "    def __init__(self, name, species, eye_color, legs = 4):\n",
    "        Dog.__init__(self, name, species, legs)\n",
    "        self.eye_color = eye_color\n",
    "            \n",
    "    #Overriding makeSound method from Animal class\n",
    "    def makeSound(self):\n",
    "        noise = \"Bark\"\n",
    "        return noise\n",
    "    \n",
    "lizard = Animal(\"Sarah\", \"Bearded Dragon\")\n",
    "lassie = Dog(\"Lassie\", \"Collie\")\n",
    "buddy = Mutt(\"Buddy\", \"Mutt\", \"Green\")\n",
    "\n",
    "print(lizard.makeSound())\n",
    "lassie.printInfo()\n",
    "print(buddy.makeSound())\n",
    "print(buddy.eye_color)\n"
   ]
  },
  {
   "cell_type": "markdown",
   "metadata": {},
   "source": [
    "##### The \\__init\\__() Method for a Child Class - super()"
   ]
  },
  {
   "cell_type": "code",
   "execution_count": 86,
   "metadata": {
    "scrolled": true
   },
   "outputs": [
    {
     "name": "stdout",
     "output_type": "stream",
     "text": [
      "9.8\n",
      "15\n"
     ]
    }
   ],
   "source": [
    "class Mutt(Dog):\n",
    "    COLOR = \"Black, brown, and white\"\n",
    "    \n",
    "    #Overriding Animal Class __init__ method by using the Dog class\n",
    "    def __init__(self, name, species, eye_color, legs = 4):\n",
    "        # super() grabs from all the parents\n",
    "        super().__init__(name, species, legs)\n",
    "        self.eye_color = eye_color\n",
    "            \n",
    "    #Overriding makeSound method from Animal class\n",
    "    def makeSound(self):\n",
    "        noise = \"Bark\"\n",
    "        return noise\n",
    "    \n",
    "\n",
    "fido = Mutt(\"Fido\", \"Mutt\", \"Blue\")\n",
    "jimothy = Mutt(\"Jimothy\", \"Mutt\", \"Hazel\")\n",
    "print(fido.ACCELERATION)\n",
    "print(jimothy.SPEED)\n"
   ]
  },
  {
   "cell_type": "markdown",
   "metadata": {},
   "source": [
    "##### Defining Attributes and Methods for the Child Class"
   ]
  },
  {
   "cell_type": "code",
   "execution_count": null,
   "metadata": {},
   "outputs": [],
   "source": [
    "# See Above"
   ]
  },
  {
   "cell_type": "markdown",
   "metadata": {},
   "source": [
    "##### Method Overriding"
   ]
  },
  {
   "cell_type": "code",
   "execution_count": null,
   "metadata": {},
   "outputs": [],
   "source": [
    "# See Above"
   ]
  },
  {
   "cell_type": "markdown",
   "metadata": {},
   "source": [
    "## Classes as Attributes <br>\n",
    "<p>Classes can also be used as attributes within another class. This is useful in situations where you need to keep variables locally stored, instead of globally stored.</p>"
   ]
  },
  {
   "cell_type": "code",
   "execution_count": 93,
   "metadata": {},
   "outputs": [
    {
     "name": "stdout",
     "output_type": "stream",
     "text": [
      "20\n"
     ]
    },
    {
     "data": {
      "text/plain": [
       "'2015 toyota prius 20'"
      ]
     },
     "execution_count": 93,
     "metadata": {},
     "output_type": "execute_result"
    }
   ],
   "source": [
    "class Battery():\n",
    "    VOLTS = 7.8\n",
    "    \n",
    "    def __init__(self, cells):\n",
    "        self.cells = cells\n",
    "        \n",
    "class Car():\n",
    "    def __init__(self, year, make, model, battery):\n",
    "        self.year = year\n",
    "        self.make = make\n",
    "        self.model = model\n",
    "        self.battery = battery\n",
    "    \n",
    "    def printInfo(self):\n",
    "        return (f\"{self.year} {self.make} {self.model} {self.battery.cells}\")\n",
    "    \n",
    "battery = Battery(20)\n",
    "\n",
    "prius = Car(2015, \"toyota\", \"prius\", battery)\n",
    "\n",
    "print(prius.battery.cells)\n",
    "prius.printInfo()   "
   ]
  },
  {
   "cell_type": "markdown",
   "metadata": {},
   "source": [
    "# Exercises"
   ]
  },
  {
   "cell_type": "markdown",
   "metadata": {},
   "source": [
    "### Exercise 1 - Turn the shopping cart program from yesterday into an object-oriented program\n",
    "\n",
    "The comments in the cell below are there as a guide for thinking about the problem. However, if you feel a different way is best for you and your own thought process, please do what feels best for you by all means."
   ]
  },
  {
   "cell_type": "code",
   "execution_count": 112,
   "metadata": {},
   "outputs": [
    {
     "name": "stdout",
     "output_type": "stream",
     "text": [
      "Here is what you have in your cart:\n",
      "You have 3 bananas(s)\n"
     ]
    }
   ],
   "source": [
    "# Create a class called cart that retains items and has methods to add, remove, and show\n",
    "from IPython.display import clear_output\n",
    "\n",
    "class Cart():\n",
    "    def __init__(self):\n",
    "        self.emptycart = {}\n",
    "        \n",
    "    def cartShow(self):\n",
    "        if self.emptycart:\n",
    "            for k,v in self.emptycart.items():\n",
    "                print(f\"You have {v} {k}(s)\")\n",
    "        else:\n",
    "            print(\"Your cart is empty\")\n",
    "                      \n",
    "    def cartAdd(self, item, quantity):\n",
    "        self.emptycart[item] = quantity\n",
    "        \n",
    "    def cartDelete(self, del_item, quantity):\n",
    "        if del_item in self.emptycart:\n",
    "            quantity_delete = input(\"How many would you like to remove? \")\n",
    "            self.emptycart[del_item] = int(quantity) - int(quantity_delete)\n",
    "            if self.emptycart[del_item] <= 0:\n",
    "                del self.emptycart[del_item]\n",
    "    \n",
    "    def cartQuit(self):\n",
    "        state = False\n",
    "        clear_output()\n",
    "\n",
    "shopping_cart = Cart()        \n",
    "        \n",
    "def cartOOP():\n",
    "    state = True\n",
    "    while state:\n",
    "        cart_action = input(\"Do you want to: 'Show', 'Add', 'Delete' or Quit?' \")\n",
    "        if cart_action.lower() == \"show\":\n",
    "            shopping_cart.cartShow()        \n",
    "        if cart_action.lower() == \"add\":\n",
    "            item = input(\"What would you like to add? \")\n",
    "            quantity = input(\"Enter quantity: \")\n",
    "            shopping_cart.cartAdd(item, quantity)\n",
    "        if cart_action.lower() == \"delete\":\n",
    "            del_item = input(\"What would you like to remove? \")\n",
    "            shopping_cart.cartDelete(del_item, quantity)\n",
    "        if cart_action.lower() == \"quit\":\n",
    "            state = False\n",
    "            clear_output()\n",
    "            print(\"Here is what you have in your cart:\")\n",
    "            shopping_cart.cartShow()\n",
    "            break\n",
    "                      \n",
    "cartOOP()\n",
    "\n"
   ]
  },
  {
   "cell_type": "markdown",
   "metadata": {},
   "source": [
    "### Exercise 2 - Write a Python class which has two methods get_String and print_String. get_String accept a string from the user and print_String print the string in upper case"
   ]
  },
  {
   "cell_type": "code",
   "execution_count": 126,
   "metadata": {},
   "outputs": [
    {
     "name": "stdout",
     "output_type": "stream",
     "text": [
      "Give word: ken\n",
      "KEN\n"
     ]
    }
   ],
   "source": [
    "class Word():\n",
    "    def get_String(self):\n",
    "        self.word = input(\"Give word: \")\n",
    "    def print_String(self):\n",
    "        print(self.word.upper())\n",
    "        \n",
    "example = Word()\n",
    "example.get_String()\n",
    "example.print_String()\n",
    "\n",
    "\n"
   ]
  },
  {
   "cell_type": "code",
   "execution_count": null,
   "metadata": {},
   "outputs": [],
   "source": []
  }
 ],
 "metadata": {
  "kernelspec": {
   "display_name": "Python 3",
   "language": "python",
   "name": "python3"
  },
  "language_info": {
   "codemirror_mode": {
    "name": "ipython",
    "version": 3
   },
   "file_extension": ".py",
   "mimetype": "text/x-python",
   "name": "python",
   "nbconvert_exporter": "python",
   "pygments_lexer": "ipython3",
   "version": "3.8.8"
  }
 },
 "nbformat": 4,
 "nbformat_minor": 2
}
